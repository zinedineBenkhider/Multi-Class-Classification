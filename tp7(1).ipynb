{
 "cells": [
  {
   "cell_type": "markdown",
   "metadata": {},
   "source": [
    "# TP 7: Classification multi-classe"
   ]
  },
  {
   "cell_type": "code",
   "execution_count": null,
   "metadata": {},
   "outputs": [],
   "source": [
    "%matplotlib inline\n",
    "import matplotlib.pyplot as plt\n",
    "#import seaborn as sns; sns.set()\n",
    "import numpy as np\n",
    "from sklearn.linear_model import Perceptron\n",
    "from sklearn.model_selection import train_test_split\n",
    "from sklearn import svm"
   ]
  },
  {
   "cell_type": "markdown",
   "metadata": {},
   "source": [
    "## Importer le jeu de données `digits`"
   ]
  },
  {
   "cell_type": "code",
   "execution_count": null,
   "metadata": {},
   "outputs": [],
   "source": [
    "from sklearn import datasets"
   ]
  },
  {
   "cell_type": "markdown",
   "metadata": {},
   "source": [
    "Charger le jeu de données `digits` via la fonction `datasets.load_digits` dans un nom `digits`. C'est un objet `Bunch` qui ressemble à un dictionnaire. Vous pouvez afficher les clefs d'indice avec `digits.keys()` et regardez la description de ce jeu de données en affichant par `print` le contenu associé à la clef `DESCR` (grâce à `digits['DESCR']` ou de façon équivalente via `digits.DESCR`)."
   ]
  },
  {
   "cell_type": "code",
   "execution_count": null,
   "metadata": {},
   "outputs": [],
   "source": [
    "digits = datasets.load_digits()\n",
    "print(digits.DESCR)"
   ]
  },
  {
   "cell_type": "markdown",
   "metadata": {},
   "source": [
    "**Question** Nommez `X_digits` et `y_digits` les valeurs associées aux clefs d'indice `data` et `target` qui correspondent aux données et aux valeur associées (les classes ou cibles)."
   ]
  },
  {
   "cell_type": "code",
   "execution_count": null,
   "metadata": {},
   "outputs": [],
   "source": [
    "X_digits = digits.data\n",
    "y_digits = digits.target\n",
    "y_digits, X_digits.shape"
   ]
  },
  {
   "cell_type": "markdown",
   "metadata": {},
   "source": [
    "La clef \"images\" est une liste d'images que l'on peut afficher. Voici les 50 premières :"
   ]
  },
  {
   "cell_type": "code",
   "execution_count": null,
   "metadata": {},
   "outputs": [],
   "source": [
    "nrows, ncols = 5, 10\n",
    "fig, ax = plt.subplots(nrows, ncols, figsize=(10, 5))\n",
    "for i in range(nrows*ncols):\n",
    "    ax[i//ncols,i%ncols].imshow(digits.images[i], cmap=plt.cm.gray_r)"
   ]
  },
  {
   "cell_type": "markdown",
   "metadata": {},
   "source": [
    "**Question**: Découpez l'échantillon en `X_train`, `y_train`, `X_test`, `y_test` en gardant les 100 derniers exemples pour le test."
   ]
  },
  {
   "cell_type": "code",
   "execution_count": null,
   "metadata": {},
   "outputs": [],
   "source": [
    "X_train, X_test, y_train, y_test = train_test_split(X_digits, \n",
    "                                                    y_digits, \n",
    "                                                    test_size=100, \n",
    "                                                    random_state=1)\n",
    "\n",
    "len(y_train)\n"
   ]
  },
  {
   "cell_type": "markdown",
   "metadata": {},
   "source": [
    "Vérifiez que vous avez bien les dimensions suivantes pour ces objets : ((1697, 64), (100, 64), (1697,), (100,))\n",
    "\n",
    "**Question** affichez les dimensions des matrices correspondant aux 4 échantillons."
   ]
  },
  {
   "cell_type": "code",
   "execution_count": null,
   "metadata": {},
   "outputs": [],
   "source": [
    "#Fait"
   ]
  },
  {
   "cell_type": "markdown",
   "metadata": {},
   "source": [
    "## Perceptron multiclasse \"Un-contre-Tous\""
   ]
  },
  {
   "cell_type": "markdown",
   "metadata": {},
   "source": [
    "**Question**: Observez le nombre de classes et etudier leur distribution dans `train` et dans le `test`. "
   ]
  },
  {
   "cell_type": "code",
   "execution_count": null,
   "metadata": {
    "scrolled": false
   },
   "outputs": [],
   "source": [
    "classes_list = np.unique(y_digits).astype(int)\n",
    "Xi_mean = [np.mean(X_digits[y_digits == cls], axis=0) for cls in classes_list]\n",
    "Xi_var = [np.var(X_train[y_train == cls], axis=0) for cls in classes_list]\n"
   ]
  },
  {
   "cell_type": "markdown",
   "metadata": {},
   "source": [
    "Nous sommes donc face à un problème **multiclasse**, ou le nombre de classes est *k=10*. Une technique pour traiter ce type de problèmes consiste à le reduire en *k* problemes binaires. Specifiquement, on construit un classifieur binaire pour chaque classe: tous les exemples $x_i$ associes a cette classe recoivent une etiquette $+1$, alors que les exemples des autres classes sont etiquettes $-1$. Ceci correspond a un codage binaire de chaque classe: elle est associee a un vecteur $z$ de taille $k$, tel que $z_i = +1$ if $y_i = k$ et $z_i = -1$ autrement. \n",
    "\n",
    "Cette technique s'appelle le **one-versus-all**. \n",
    "\n"
   ]
  },
  {
   "cell_type": "markdown",
   "metadata": {},
   "source": [
    "### Codage binaire des labels\n",
    "\n",
    "**Question**:  Concretement, on cree donc un vecteur binaire \"cible\" $y\\in\\{−1,+1\\}^N$ (ou $N$ est le nombre d'exemples) que l'on associe a chaque classe (via un dictionnaire) pour chaque jeu de donnees `train` et `test`. "
   ]
  },
  {
   "cell_type": "code",
   "execution_count": null,
   "metadata": {},
   "outputs": [],
   "source": [
    "donnees=[y_train,y_test]\n",
    "assoc=[\"y_train\",\"y_test\"]\n",
    "dic={}\n",
    "res={}\n",
    "for d in donnees:\n",
    "    for k in range (10):\n",
    "        z=[]\n",
    "        for i in range(len(d)):\n",
    "            if k==d[i]:\n",
    "                z=z+[1]\n",
    "            else:\n",
    "                z=z+[-1]\n",
    "    \n",
    "        dic[k]=z\n",
    "    res[assoc[donnees.index(d)]]=dic\n",
    "print(res)\n",
    "    "
   ]
  },
  {
   "cell_type": "markdown",
   "metadata": {},
   "source": [
    "**Question**: On entraine ensuite $10$ classifieurs binaires, dans ce cas-ci un perceptron, que l'on associe chacune des classes. Utilisez l'implementation du perceptron fournie dans `sklearn`. Fixez le nombre d'iterations maximum a $1$, $10$, puis $100$).  "
   ]
  },
  {
   "cell_type": "code",
   "execution_count": 39,
   "metadata": {},
   "outputs": [],
   "source": [
    "perc=Perceptron(max_iter=1)\n",
    "perc.fit(X_train,res[\"y_train\"][0])\n",
    "perc.predict(X_test)\n",
    "\n"
   ]
  },
  {
   "cell_type": "markdown",
   "metadata": {},
   "source": [
    "### Prediction multiclasse"
   ]
  },
  {
   "cell_type": "markdown",
   "metadata": {},
   "source": [
    "**Question**: On cherche a present a predire une des $k$ classes, en utilisant la regle de decision suivante, ou $\\bf{w}_y$ est le vecteur de parametres appris avec le perceptron binaire pour la classe $y$:\n",
    "\n",
    "$$\n",
    "\\hat{y} = \\text{argmax}_{y\\in\\{1,\\ldots,k\\}} \\bf{w}_y^{\\top} \\bf{x}\n",
    "$$\n",
    "Predisez les etiquettes multiclasses successivement sur les donnees `train` et `test`. "
   ]
  },
  {
   "cell_type": "code",
   "execution_count": null,
   "metadata": {},
   "outputs": [],
   "source": [
    "\n",
    "    "
   ]
  },
  {
   "cell_type": "markdown",
   "metadata": {},
   "source": [
    "### Evaluation "
   ]
  },
  {
   "cell_type": "markdown",
   "metadata": {},
   "source": [
    "**Question:** Calculer le taux d'erreur (cad, nombre de prediction correctes/nombre d'exemples) sur `train` et `test`. "
   ]
  },
  {
   "cell_type": "code",
   "execution_count": null,
   "metadata": {},
   "outputs": [],
   "source": []
  },
  {
   "cell_type": "markdown",
   "metadata": {},
   "source": [
    "**Question**: Evaluer egalement votre modele de classification multi-classe en termes de **precision (P)**, **rappel (R)** et **F1-score (F1)**:\n",
    "\n",
    "$$\n",
    "P = \\frac{TP}{TP+FP} \\\\\n",
    "R = \\frac{TP}{TP+FN}\\\\\n",
    "F1 = 2 \\frac{P\\times R}{P+R}\n",
    "$$\n",
    "ou TP designent les vrais positifs, FP les faux positifs, et FN les faux negatifs. Ces mesures sont fournies dans `sklearn.metrics`. Utiliser l'option `average='macro'`.\n",
    "\n"
   ]
  },
  {
   "cell_type": "code",
   "execution_count": null,
   "metadata": {},
   "outputs": [],
   "source": []
  },
  {
   "cell_type": "markdown",
   "metadata": {},
   "source": [
    "**Question:** En vue de visualiser les erreurs faites pour le modele, calculer la **matrice de confusion**, egalement disponible dans `sklearn.matrix`. Analyser cette matrice. Quelles sont les erreurs les plus frequentes? Tentez d'expliquer. "
   ]
  },
  {
   "cell_type": "code",
   "execution_count": null,
   "metadata": {},
   "outputs": [],
   "source": []
  }
 ],
 "metadata": {
  "kernelspec": {
   "display_name": "Python 3",
   "language": "python",
   "name": "python3"
  },
  "language_info": {
   "codemirror_mode": {
    "name": "ipython",
    "version": 3
   },
   "file_extension": ".py",
   "mimetype": "text/x-python",
   "name": "python",
   "nbconvert_exporter": "python",
   "pygments_lexer": "ipython3",
   "version": "3.6.7"
  }
 },
 "nbformat": 4,
 "nbformat_minor": 2
}
